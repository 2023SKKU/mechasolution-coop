{
  "nbformat": 4,
  "nbformat_minor": 0,
  "metadata": {
    "colab": {
      "provenance": []
    },
    "kernelspec": {
      "name": "python3",
      "display_name": "Python 3"
    },
    "language_info": {
      "name": "python"
    }
  },
  "cells": [
    {
      "cell_type": "code",
      "execution_count": 23,
      "metadata": {
        "colab": {
          "base_uri": "https://localhost:8080/"
        },
        "id": "qGMmrGmjq_dh",
        "outputId": "019bdbbd-a31e-41ab-ef6b-532d6354f14c"
      },
      "outputs": [
        {
          "output_type": "stream",
          "name": "stdout",
          "text": [
            "Drive already mounted at /content/drive; to attempt to forcibly remount, call drive.mount(\"/content/drive\", force_remount=True).\n"
          ]
        }
      ],
      "source": [
        "from google.colab import drive\n",
        "drive.mount('/content/drive')"
      ]
    },
    {
      "cell_type": "code",
      "source": [
        "import pandas as pd\n",
        "import os\n",
        "\n",
        "forders = os.listdir('/content/drive/MyDrive/네이버리뷰크롤링')\n",
        "%cd /content/drive/MyDrive/네이버리뷰크롤링\n",
        "new = pd.DataFrame()\n",
        "\n",
        "for files in forders:\n",
        "    df = pd.read_csv(files)\n",
        "    new = pd.concat([new, df])\n",
        "\n",
        "output = new[['category', 'product_name', 'content', 'star_rating']]\n",
        "print(output)"
      ],
      "metadata": {
        "colab": {
          "base_uri": "https://localhost:8080/"
        },
        "id": "6Ujvn_CnrLOi",
        "outputId": "f8e45c9f-1e17-4b03-ee60-20cdc32ec56b"
      },
      "execution_count": 24,
      "outputs": [
        {
          "output_type": "stream",
          "name": "stdout",
          "text": [
            "/content/drive/MyDrive/네이버리뷰크롤링\n",
            "      category                    product_name  \\\n",
            "0          면도기  도루코 페이스7II 프레쉬 면도기+면도날11입+쉐이빙폼   \n",
            "1          면도기  도루코 페이스7II 프레쉬 면도기+면도날11입+쉐이빙폼   \n",
            "2          면도기  도루코 페이스7II 프레쉬 면도기+면도날11입+쉐이빙폼   \n",
            "3          면도기  도루코 페이스7II 프레쉬 면도기+면도날11입+쉐이빙폼   \n",
            "4          면도기  도루코 페이스7II 프레쉬 면도기+면도날11입+쉐이빙폼   \n",
            "...        ...                             ...   \n",
            "19995   스탠드옷걸이      지엔 이동식 행거 철제 스탠드 옷걸이 강철 일자   \n",
            "19996   스탠드옷걸이      지엔 이동식 행거 철제 스탠드 옷걸이 강철 일자   \n",
            "19997   스탠드옷걸이      지엔 이동식 행거 철제 스탠드 옷걸이 강철 일자   \n",
            "19998   스탠드옷걸이      지엔 이동식 행거 철제 스탠드 옷걸이 강철 일자   \n",
            "19999   스탠드옷걸이      지엔 이동식 행거 철제 스탠드 옷걸이 강철 일자   \n",
            "\n",
            "                                                 content  star_rating  \n",
            "0      아주 저렴하게 구매했어요. 면도날은 수염이 많아서 원래 쓰던 제품이고 면도기는 5년...            5  \n",
            "1                                       항상 잘 쓰고 있어요! 굳굳!            5  \n",
            "2                                        쓸만합니다. 잘 쓰겠습니다.            5  \n",
            "3                                            배송도 빠르고 좋아요            5  \n",
            "4                                     좋아요 좋습니다.아주좋아요1!!!            5  \n",
            "...                                                  ...          ...  \n",
            "19995  딱 필요한 사이즈였어요!!외출복  걸어두는 용도로 구매했습니다!이음새 부분 마감처리...            4  \n",
            "19996                                    짱좋아요 ㅋㅋ사무실용으로 딱            5  \n",
            "19997                            택배가 이상하긴했는데 튼튼하고 문제없습니다            5  \n",
            "19998                               짱짱하니 젛아요 옷도 마니 걸수잇구여            5  \n",
            "19999                                      만족합니다~잘 쓰겠습니다            4  \n",
            "\n",
            "[322149 rows x 4 columns]\n"
          ]
        }
      ]
    },
    {
      "cell_type": "code",
      "source": [
        "output.to_csv(\"navertotal.csv\", index = False)"
      ],
      "metadata": {
        "id": "rFBuUJ0Z7ids"
      },
      "execution_count": 21,
      "outputs": []
    },
    {
      "cell_type": "code",
      "source": [],
      "metadata": {
        "id": "ILI-ETtt82Wx"
      },
      "execution_count": null,
      "outputs": []
    },
    {
      "cell_type": "code",
      "source": [
        "unique_values = output['star_rating'].unique()\n",
        "print(unique_values)"
      ],
      "metadata": {
        "colab": {
          "base_uri": "https://localhost:8080/"
        },
        "id": "P1wtfCNT7awF",
        "outputId": "6cedd246-b42b-4a19-ff6f-8221ea11cb93"
      },
      "execution_count": 25,
      "outputs": [
        {
          "output_type": "stream",
          "name": "stdout",
          "text": [
            "[5 4 3 2 1]\n"
          ]
        }
      ]
    },
    {
      "cell_type": "code",
      "source": [
        "#print(output['star_rating'].dtypes)\n",
        "import matplotlib.pyplot as plt\n",
        "output['star_rating'].value_counts().sort_index().plot(kind='bar')\n",
        "\n",
        "# Setting the labels and title for the plot\n",
        "plt.xlabel('Star Rating')\n",
        "plt.ylabel('Count')\n",
        "plt.title('Distribution of Star Ratings')\n",
        "\n",
        "# Displaying the plot\n",
        "plt.show()"
      ],
      "metadata": {
        "colab": {
          "base_uri": "https://localhost:8080/",
          "height": 467
        },
        "id": "2fbrDlAr3TA5",
        "outputId": "a9e74526-5436-4162-e47c-4be2b5a28d16"
      },
      "execution_count": 26,
      "outputs": [
        {
          "output_type": "display_data",
          "data": {
            "text/plain": [
              "<Figure size 640x480 with 1 Axes>"
            ],
            "image/png": "[encoded data removed]"
          },
          "metadata": {}
        }
      ]
    },
    {
      "cell_type": "code",
      "source": [
        "#긍,부정 비율\n",
        "import numpy as np\n",
        "output['label'] = np.select([output.star_rating > 3], [1], default=0)\n",
        "\n",
        "output['label'].value_counts().sort_index().plot(kind='bar', color='lightgreen')\n",
        "plt.xlabel('Label')\n",
        "plt.ylabel('Count')\n",
        "plt.title('Distribution of Label')\n",
        "plt.show()"
      ],
      "metadata": {
        "colab": {
          "base_uri": "https://localhost:8080/",
          "height": 576
        },
        "id": "sH50AhAI5Yyo",
        "outputId": "9198b092-20d5-4291-d1b6-b797c1b04b84"
      },
      "execution_count": 34,
      "outputs": [
        {
          "output_type": "stream",
          "name": "stderr",
          "text": [
            "<ipython-input-34-c6ec100db200>:2: SettingWithCopyWarning: \n",
            "A value is trying to be set on a copy of a slice from a DataFrame.\n",
            "Try using .loc[row_indexer,col_indexer] = value instead\n",
            "\n",
            "See the caveats in the documentation: https://pandas.pydata.org/pandas-docs/stable/user_guide/indexing.html#returning-a-view-versus-a-copy\n",
            "  output['label'] = np.select([output.star_rating > 3], [1], default=0)\n"
          ]
        },
        {
          "output_type": "display_data",
          "data": {
            "text/plain": [
              "<Figure size 640x480 with 1 Axes>"
            ],
            "image/png": "[encoded data removed]"
          },
          "metadata": {}
        }
      ]
    },
    {
      "cell_type": "code",
      "source": [],
      "metadata": {
        "id": "mJuiVlUs5Z6A"
      },
      "execution_count": null,
      "outputs": []
    },
    {
      "cell_type": "code",
      "source": [],
      "metadata": {
        "id": "3UDXcbfV5Z-m"
      },
      "execution_count": null,
      "outputs": []
    },
    {
      "cell_type": "code",
      "source": [],
      "metadata": {
        "id": "vG8v0NkF5aDp"
      },
      "execution_count": null,
      "outputs": []
    },
    {
      "cell_type": "code",
      "source": [],
      "metadata": {
        "id": "UNfAwuA2rLc2"
      },
      "execution_count": null,
      "outputs": []
    }
  ]
}